{
 "cells": [
  {
   "cell_type": "code",
   "execution_count": 1,
   "id": "fdd85fb3",
   "metadata": {},
   "outputs": [
    {
     "name": "stdout",
     "output_type": "stream",
     "text": [
      "✅ Model trained and saved as 'random_forest_model.joblib'\n"
     ]
    }
   ],
   "source": [
    "import pandas as pd\n",
    "from sklearn.ensemble import RandomForestClassifier\n",
    "from sklearn.model_selection import train_test_split\n",
    "from joblib import dump\n",
    "\n",
    "# Load your feature file\n",
    "df = pd.read_csv(\"Feature.csv\")\n",
    "\n",
    "# Define features and label\n",
    "X = df[[\"speed_km_h\", \"miss_distance_km\", \"diameter_min_km\", \"diameter_max_km\"]]\n",
    "y = df[\"is_hazardous\"]\n",
    "\n",
    "# Train-test split (optional but good practice)\n",
    "X_train, X_test, y_train, y_test = train_test_split(X, y, test_size=0.2, random_state=42)\n",
    "\n",
    "# Train model\n",
    "model = RandomForestClassifier(n_estimators=100, random_state=42)\n",
    "model.fit(X_train, y_train)\n",
    "\n",
    "# Save model\n",
    "dump(model, \"random_forest_model.joblib\")\n",
    "\n",
    "print(\"✅ Model trained and saved as 'random_forest_model.joblib'\")\n"
   ]
  }
 ],
 "metadata": {
  "kernelspec": {
   "display_name": "base",
   "language": "python",
   "name": "python3"
  },
  "language_info": {
   "codemirror_mode": {
    "name": "ipython",
    "version": 3
   },
   "file_extension": ".py",
   "mimetype": "text/x-python",
   "name": "python",
   "nbconvert_exporter": "python",
   "pygments_lexer": "ipython3",
   "version": "3.12.7"
  }
 },
 "nbformat": 4,
 "nbformat_minor": 5
}
